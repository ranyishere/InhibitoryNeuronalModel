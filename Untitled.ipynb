{
 "cells": [
  {
   "cell_type": "markdown",
   "id": "6bbf1d0c-fac2-4fb0-9d4e-f11469f59b96",
   "metadata": {},
   "source": [
    "# Neuronal Regime Modeling "
   ]
  },
  {
   "cell_type": "markdown",
   "id": "4ba70067-d34b-4719-b9fd-9ba3c758844f",
   "metadata": {},
   "source": [
    "### By: Rany Tith, Dylan Riffle, and Jose Manuel Aguilar \n",
    "### Date: 05/27/2024"
   ]
  },
  {
   "cell_type": "markdown",
   "id": "efbabb42-5fb9-4717-8196-4244f6764e40",
   "metadata": {},
   "source": [
    "\n",
    "## Introduction\n",
    "Brain neurons are susceptible to instability. In the real world this can manifest itself in epilepsy. It is hypothesized that inhibiory stabilization offers\n",
    "a dynamic, fast, and flexible to balance unbalanced networks. The intuition is that this allows the brain to operate in its most efficient regimes."
   ]
  },
  {
   "cell_type": "markdown",
   "id": "e2b0b892-8bfa-4e09-aee4-b6e6a82ba9df",
   "metadata": {},
   "source": [
    "## Equations\n",
    "\n",
    "Consider the following definition of inhibition-stabilized networks.\n",
    "\n",
    "$$ \\tau \\dfrac{dr}{dt} = -r + [W \\cdot r + s ]_{+} $$\n",
    "\n",
    "Where we let:\n",
    "* $r = \\begin{pmatrix} r_{E} & r_{I} \\end{pmatrix}$, $r_{E}$ is the excitatory rate, $r_{I}$ is the inhibition rate.\n",
    "* $[ \\cdot ]_{+}$ represents half wave rectification.\n",
    "* $\\tau$ is a time constant of network integration\n",
    "* $s = \\begin{pmatrix} S_{E} & S_{I} \\end{pmatrix}$, this represents the feedforward input for the two populations $S_{E}$ and $S_{I}$.\n",
    "* $W = \\begin{pmatrix}\n",
    "          W_{E \\leftarrow E} & W_{E \\leftarrow I} \\\\\n",
    "          W_{I \\leftarrow E} & W_{I \\leftarrow I}\n",
    "       \\end{pmatrix}$ where each $W$ represents a coupling between the populations."
   ]
  },
  {
   "cell_type": "markdown",
   "id": "19363d36-2405-43e0-865e-95b2ff26e923",
   "metadata": {},
   "source": [
    "### Steady State\n",
    "\n",
    "Suppose we let "
   ]
  }
 ],
 "metadata": {
  "kernelspec": {
   "display_name": "Python 3 (ipykernel)",
   "language": "python",
   "name": "python3"
  },
  "language_info": {
   "codemirror_mode": {
    "name": "ipython",
    "version": 3
   },
   "file_extension": ".py",
   "mimetype": "text/x-python",
   "name": "python",
   "nbconvert_exporter": "python",
   "pygments_lexer": "ipython3",
   "version": "3.11.4"
  }
 },
 "nbformat": 4,
 "nbformat_minor": 5
}
